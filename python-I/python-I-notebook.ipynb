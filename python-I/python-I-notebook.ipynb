{
 "cells": [
  {
   "attachments": {},
   "cell_type": "markdown",
   "id": "3f7caae3",
   "metadata": {},
   "source": [
    "# A Simple Python Script\n",
    "This is an example of a basic python script. What purpose do you think it serves? What might the final outcome be? Is there any individual elements that you feel you understand?  "
   ]
  },
  {
   "cell_type": "code",
   "execution_count": null,
   "id": "fb402f5b",
   "metadata": {},
   "outputs": [],
   "source": [
    "import re\n",
    "from collections import Counter\n",
    "\n",
    "# a string\n",
    "filepath_of_text = \"Bette-Smith-Transcript.txt\"\n",
    "\n",
    "# an integer\n",
    "number_of_desired_words = 50\n",
    "\n",
    "# a list\n",
    "stopwords = ['i', 'me', 'my', 'myself', 'we', 'our', 'ours', 'ourselves', 'you', \"you're\", \"you've\", \"you'll\", \n",
    "             \"you'd\", 'your', 'yours', 'yourself', 'yourselves', 'he', 'him', 'his', 'himself', 'she', \"she's\", \n",
    "             'her', 'hers', 'herself', 'it', \"it's\", 'its', 'itself', 'they', 'them', 'their', 'theirs', \n",
    "             'themselves', 'what', 'which', 'who', 'whom', 'this', 'that', \"that'll\", 'these', 'those', 'am', 'is', \n",
    "             'are', 'was', 'were', 'be', 'been', 'being', 'have', 'has', 'had', 'having', 'do', 'does', 'did', 'said', \n",
    "             'say', 'doing', 'a', 'an', 'the', 'and', 'but', 'if', 'or', 'because', 'as', 'until', 'while', 'of', 'at',\n",
    "             'by', 'for', 'with', 'about', 'against', 'between', 'into', 'through', 'during', 'before', 'after', \n",
    "             'above', 'below', 'to', 'from', 'up', 'down', 'in', 'out', 'on', 'off', 'over', 'under', 'again', \n",
    "             'further', 'then', 'once', 'here', 'there', 'when', 'where', 'why', 'how', 'would', 'could', 'should', \n",
    "             'all', 'any', 'both', 'each', 'few', 'more', 'most', 'other', 'some', 'such', 'no', 'nor', 'not', 'only', \n",
    "             'own', 'same', 'so', 'than', 'too', 'very', 's', 't', 'can', 'will', 'just', 'don', \"don't\", 'should', \n",
    "             \"should've\", 'now', 'd', 'll', 'm', 'o', 're', 've', 'y', 'ain', 'aren', \"aren't\", 'couldn', \"couldn't\", \n",
    "             'didn', \"didn't\", 'doesn', \"doesn't\", 'hadn', \"hadn't\", 'hasn', \"hasn't\", 'haven', \"haven't\", 'isn', \n",
    "             \"isn't\", 'ma', 'mightn', \"mightn't\", 'mustn', \"mustn't\", 'needn', \"needn't\", 'shan', \"shan't\", 'shouldn', \n",
    "             \"shouldn't\", 'wasn', \"wasn't\", 'weren', \"weren't\", 'won', \"won't\", 'wouldn', \"wouldn't\"]\n",
    "\n",
    "# file io\n",
    "full_text = open(filepath_of_text, encoding=\"utf-8\").read().lower()\n",
    "\n",
    "# words of text split using regex --> text transforms from string to list\n",
    "text_split_into_words = re.split(\"\\W+\", full_text)\n",
    "\n",
    "# empty list\n",
    "# loop to remove stopwords and populate significant_words with... the significant words\n",
    "significant_words = []\n",
    "\n",
    "for word in text_split_into_words:\n",
    "    if word not in stopwords and word.isalpha():\n",
    "        significant_words.append(word)\n",
    "\n",
    "# a dictionary\n",
    "significant_words_tally = Counter(significant_words)\n",
    "order_significant_words = significant_words_tally.most_common(number_of_desired_words)\n",
    "\n",
    "order_significant_words"
   ]
  },
  {
   "attachments": {},
   "cell_type": "markdown",
   "id": "abe0bb59",
   "metadata": {},
   "source": [
    "# I. Variables & Data Types\n",
    "\n",
    "Variables are like buckets used to hold and save information you need when programming."
   ]
  },
  {
   "cell_type": "code",
   "execution_count": null,
   "id": "f0a784ae",
   "metadata": {},
   "outputs": [],
   "source": [
    "# the single equal sign is an \"assignment operator\", it tells the computer that what comes after it \n",
    "# should be stored under the variable name\n",
    "bucket = \"information\"\n",
    "print(bucket)"
   ]
  },
  {
   "attachments": {},
   "cell_type": "markdown",
   "id": "a37314e8",
   "metadata": {},
   "source": [
    "## Naming Variables\n",
    "There are certain rules that you have to follow when naming variables so the computer doesn't get confused and throw you a `SyntaxError`, thinking you're trying to type a sentence instead of code!\n",
    "\n",
    "The three most common naming styles that Python programmers follow are:\n",
    "- snake_case_style\n",
    "- CamelCaseStyle\n",
    "- mixedCaseStyle\n",
    "\n",
    "It's easiest to pick one of these and stick to it throughout your code! But to provide more detail, here are the specific rules for naming variables:\n",
    "\n",
    "**YOU CAN USE:**\n",
    "- Upper and lower case letters\n",
    "- Underscores\n",
    "- Numbers (but **not** at the beginning of the variable!)\n",
    "\n",
    "**YOU CANNOT USE:**\n",
    "- Reserved words that Python uses for other things (like `True`/`False` or print)\n",
    "- Spaces\n",
    "- Any other punctuation besides what was specified above\n",
    "\n",
    "## Practice Activity #1: Is that right?\n",
    "\n",
    "Now that you know the rules, take them for a spin and try to determine which of these variable names are valid, then run the cell to see if you were right!"
   ]
  },
  {
   "cell_type": "code",
   "execution_count": null,
   "id": "b7352991",
   "metadata": {},
   "outputs": [],
   "source": [
    "ToKillAMockingbird = 0"
   ]
  },
  {
   "cell_type": "code",
   "execution_count": null,
   "id": "2ae34b77",
   "metadata": {},
   "outputs": [],
   "source": [
    "10ThingsIHateAboutYou = []"
   ]
  },
  {
   "cell_type": "code",
   "execution_count": null,
   "id": "bf80747d",
   "metadata": {},
   "outputs": [],
   "source": [
    "true = {}"
   ]
  },
  {
   "cell_type": "code",
   "execution_count": null,
   "id": "d674bcb0",
   "metadata": {},
   "outputs": [],
   "source": [
    "theHobbit = \"\""
   ]
  },
  {
   "cell_type": "code",
   "execution_count": null,
   "id": "d3a1a0c1",
   "metadata": {},
   "outputs": [],
   "source": [
    "alice_in_wonderland = \"\""
   ]
  },
  {
   "cell_type": "code",
   "execution_count": null,
   "id": "efa300a5",
   "metadata": {},
   "outputs": [],
   "source": [
    "$bills = 0"
   ]
  },
  {
   "cell_type": "code",
   "execution_count": null,
   "id": "c4354313",
   "metadata": {},
   "outputs": [],
   "source": [
    "fahrenheit451 = 0"
   ]
  },
  {
   "cell_type": "code",
   "execution_count": null,
   "id": "9560503f",
   "metadata": {},
   "outputs": [],
   "source": [
    "the great gatsby = \"\""
   ]
  },
  {
   "attachments": {},
   "cell_type": "markdown",
   "id": "5bc7995c",
   "metadata": {},
   "source": [
    "**A word of caution!**\n",
    "\n",
    "Unique and descriptive variable names, like the ones shown in our example code, are very important not just for readability, but also because in Python it's very easy to reassign variables! This means that if you accidentally give two different variables the same name, the original contents of the \"bucket\" will be emptied and replaced by what you've newly assign to be in it. For example:"
   ]
  },
  {
   "cell_type": "code",
   "execution_count": null,
   "id": "6f3bb763",
   "metadata": {},
   "outputs": [],
   "source": [
    "theBucket = \"sure am happy to be in this bucket!\"\n",
    "theBucket = \"oh no! I'm being replaced!\"\n",
    "theBucket = \"oh well, guess this is what's in the bucket now.\"\n",
    "\n",
    "# what do you think will be printed?\n",
    "print(theBucket)"
   ]
  },
  {
   "attachments": {},
   "cell_type": "markdown",
   "id": "6a7757c3",
   "metadata": {},
   "source": [
    "As you may know, there are many different items that one can put in a bucket. In Python, these \"items\" are referred to as data types. Like the name implies, this is just the type of data you are storing in your variable. The key data types you should know are...\n",
    "\n",
    "## Numerical"
   ]
  },
  {
   "cell_type": "code",
   "execution_count": null,
   "id": "3860b046",
   "metadata": {},
   "outputs": [],
   "source": [
    "# integers, a whole numbers\n",
    "number = 7\n",
    "\n",
    "# floats, a decimal number\n",
    "decimal = 5.5\n",
    "\n",
    "# integers and floats can also be more flexible, as you could use a variable to store something like an equation\n",
    "equation = 5 + 4 * 4 \n",
    "# print(equation)\n",
    "\n",
    "# since these variables are holding numbers, we can also add them together just like we'd add numbers!\n",
    "result = number + decimal\n",
    "print(result)"
   ]
  },
  {
   "attachments": {},
   "cell_type": "markdown",
   "id": "85ba5c70",
   "metadata": {},
   "source": [
    "## Textual"
   ]
  },
  {
   "cell_type": "code",
   "execution_count": null,
   "id": "d1e4e291",
   "metadata": {},
   "outputs": [],
   "source": [
    "# strings store text\n",
    "# this can be a single word\n",
    "one_word = \"cat\"\n",
    "\n",
    "# or a whole sentence and beyond\n",
    "paragraph = \"No Knight of the Round Table has been so highly honoured by the old Romance-writers as Sir Gawayne, the son of Loth, and nephew to the renowned Arthur. They delighted to describe him as Gawayne the good, a man matchless on mould, the most gracious that under God lived, the hardiest of hand, the most fortunate in arms, and the most polite in hall, whose knowledge, knighthood, kindly works, doings, doughtiness, and deeds of arms were known in all lands.\""
   ]
  },
  {
   "cell_type": "code",
   "execution_count": null,
   "id": "157aa635",
   "metadata": {},
   "outputs": [],
   "source": [
    "# you can grab individual parts of a string by placing the index (numerical position) of the character you want in [square brackets] beside the string variable\n",
    "# NOTE: in Python and most other programming languages, counting start at 0\n",
    "# so if we want to get the letter \"c\" from cat:\n",
    "\n",
    "one_word[0]\n",
    "\n",
    "# this will print \"c\" since the letter \"c\" is at position 0"
   ]
  },
  {
   "cell_type": "code",
   "execution_count": null,
   "id": "9dd28a7c",
   "metadata": {},
   "outputs": [],
   "source": [
    "# \"Slicing\" is when we grab multiple characters by using a colon, with the start position being placed before the colon and the end position being placed after it\n",
    "# to get the words \"No Knight\":\n",
    "\n",
    "paragraph[0:9]"
   ]
  },
  {
   "attachments": {},
   "cell_type": "markdown",
   "id": "52a29ae9",
   "metadata": {},
   "source": [
    "## Grouping"
   ]
  },
  {
   "cell_type": "code",
   "execution_count": null,
   "id": "6b83ab95",
   "metadata": {},
   "outputs": [],
   "source": [
    "# sometimes, we might have a collection of strings we want to store \n",
    "# for this, we would use a list\n",
    "list_of_words = [\"cat\", \"dog\", \"mouse\", \"horse\", \"goat\", \"sheep\", \"chickens\"]\n",
    "list_of_sentences = [\"Arthur, the greatest of Britain's kings, holds the Christmas festival at Camelot\", \n",
    "                     \"If he astounded them at first, much more so did he after this speech, and fear held them all silent.\",\n",
    "                    \"They take away his helmet, sword, and shield, and many a proud one presses forward to do him honour.\"]\n",
    "\n",
    "# we interact with lists positionally just like we do with strings, but rather than individuals letters, items of the list are returned instead\n",
    "# to get the word \"mouse\":\n",
    "list_of_words[2]"
   ]
  },
  {
   "cell_type": "code",
   "execution_count": null,
   "id": "9cff417e",
   "metadata": {},
   "outputs": [],
   "source": [
    "# to get the first and second sentence in list_of_sentences:\n",
    "list_of_sentences[0:2]\n",
    "\n",
    "# NOTE: for lists, the end position is exclusive-- it will get items up to but NOT including the item at the specified end position"
   ]
  },
  {
   "attachments": {},
   "cell_type": "markdown",
   "id": "2658be21",
   "metadata": {},
   "source": [
    "## Find the variables and their type\n",
    "Python has a built-in `type()` function that allows you to check the data type of any variable, which can be used like so:"
   ]
  },
  {
   "cell_type": "code",
   "execution_count": null,
   "id": "d37cba3d",
   "metadata": {},
   "outputs": [],
   "source": [
    "# checking the variable from the previous code cell\n",
    "type(list_of_sentences)"
   ]
  },
  {
   "attachments": {},
   "cell_type": "markdown",
   "id": "d4f7271c",
   "metadata": {},
   "source": [
    "From the original block of code we started with, identify as many variables as you can and use the following empty code cell to check their type!"
   ]
  },
  {
   "cell_type": "code",
   "execution_count": null,
   "id": "58f93a15",
   "metadata": {},
   "outputs": [],
   "source": [
    "# I'll start us off with one\n",
    "type(filepath_of_text)"
   ]
  },
  {
   "attachments": {},
   "cell_type": "markdown",
   "id": "94c193d1",
   "metadata": {},
   "source": [
    "# II. Comparison Operators and Data Types Working Together\n",
    "Like in math, comparison operators are used to compare 2 numbers or, more commonly, variables. \n",
    "\n",
    "While we've discussed numeric and textual data types, perhaps the single most fundamental and important data type is that of boolean values-- `True` and `False`. The computer thinks only in true or false, black and white, so to get any results from it you must turn any question you would like it to answer into something that can be resolved via a \"Yes\" or \"No\". Comparison is an easy way to do this; for example, \"Does this word match any of the keywords I'm looking for?\" or \"Is this year the same as or before the year I'm looking to analyze?\"\n",
    "\n",
    "Here is a table of all the comparison operators you can use in Python.\n",
    "\n",
    "|Operator|Meaning|\n",
    "|---|---|\n",
    "|==|Equal to|\n",
    "|!=|Not equal to|\n",
    "|<|Less than|\n",
    "|>|Greater than|\n",
    "|<=|Less than or equal to|\n",
    "|>=|Greater than or equal to|\n",
    "\n",
    "And here are some examples of comparison operators in action!"
   ]
  },
  {
   "cell_type": "code",
   "execution_count": null,
   "id": "037ca1e0",
   "metadata": {},
   "outputs": [],
   "source": [
    "# if you run this cell, the result will return as \"True\" because 1863 is equal to 1863!\n",
    "1863 == 1863"
   ]
  },
  {
   "cell_type": "code",
   "execution_count": null,
   "id": "22c79ed5",
   "metadata": {},
   "outputs": [],
   "source": [
    "# likewise, this will return as \"False\" because 1863 IS equal to 1863\n",
    "1863 != 1863"
   ]
  },
  {
   "cell_type": "code",
   "execution_count": null,
   "id": "bf82c5a8",
   "metadata": {},
   "outputs": [],
   "source": [
    "# now THIS will return as \"True\" because yes, 1863 is NOT equal to 1\n",
    "1863 != 1"
   ]
  },
  {
   "cell_type": "code",
   "execution_count": null,
   "id": "64ad49ec",
   "metadata": {},
   "outputs": [],
   "source": [
    "# now because I want to show you that you can use variables when comparing, we will now declare 1863 as a \n",
    "# hypothetical \"target year\" variable and use it going forward\n",
    "targetYear = 1863"
   ]
  },
  {
   "cell_type": "code",
   "execution_count": null,
   "id": "d3e7ba94",
   "metadata": {},
   "outputs": [],
   "source": [
    "# this is \"True\" because 1863 is great than 1860\n",
    "targetYear > 1860"
   ]
  },
  {
   "cell_type": "code",
   "execution_count": null,
   "id": "83208fec",
   "metadata": {},
   "outputs": [],
   "source": [
    "# ... and if we flip the comparison operator it will be \"False\" because 1863 is NOT less than 1860\n",
    "targetYear < 1860"
   ]
  },
  {
   "cell_type": "code",
   "execution_count": null,
   "id": "2b8fe33e",
   "metadata": {},
   "outputs": [],
   "source": [
    "# the \">\" and \"<\" operaters are exclusive, meaning something like\n",
    "1863 > targetYear\n",
    "# will return \"False\" because, well, 1863 technically isn't greater than 1863!"
   ]
  },
  {
   "cell_type": "code",
   "execution_count": null,
   "id": "6555b39e",
   "metadata": {},
   "outputs": [],
   "source": [
    "# this is why we have the inclusive \">=\" or \"<=\" operators, because in some situations we may want to include a number as a start point or baseline\n",
    "1863 >= targetYear"
   ]
  },
  {
   "attachments": {},
   "cell_type": "markdown",
   "id": "1badf874",
   "metadata": {},
   "source": [
    "## Comparing strings\n",
    "\n",
    "We've all seen the stereotypical \"matrix\" or \"hacker\" screen with letters changing to numbers and then the numbers changing to \"1\"s and \"0\"s as they scroll down the screen like this: \n",
    "\n",
    "<img src=\"https://i.gifer.com/Nv2.gif\" alt=\"Drawing\" style=\"width: 500px;\"/>\n",
    "\n",
    "Although dramatic, this is exactly what your computer is doing when it reads string! Not only is your computer a \"True\" or \"False\" machine, it can also only actually understand numbers. When your computer reads a string, every individual letter and/or symbol is mapped to a series of numbers, and then this series of numbers is converted to a binary code-- the \"1\"s and \"0\"s-- that your computer actually understands. For example, if you had a string like:\n",
    "\n",
    "`beginning_of_alpha = \"a\"`\n",
    "\n",
    "The process your computer would go through when reading that \"a\" is\n",
    "\n",
    "- Recieve \"a\" as input, sees that it's enclosed in quotation marks so it knows that it is processing a \"string\" type object\n",
    "- \"a\" is converted to its unicode value \"0066\"\n",
    "- This number value is recognized and further converted into the binary vale of \"01100001\"\n",
    "\n",
    "That's basically a long way of saying yes! We *can* compare strings like we do with numbers-- because strings are converted into numbers when the computer analyzes them!\n",
    "\n",
    "Here's some examples of string comparison."
   ]
  },
  {
   "cell_type": "code",
   "execution_count": null,
   "id": "ca5921fc",
   "metadata": {},
   "outputs": [],
   "source": [
    "# this will return \"True\"-- the strings are identical!\n",
    "\"hello\" == \"hello\""
   ]
  },
  {
   "cell_type": "code",
   "execution_count": null,
   "id": "c45f89a3",
   "metadata": {},
   "outputs": [],
   "source": [
    "# this will return \"False\". Note the uppercase \"H\"-- lowercase and uppercase letters have different binary codes!\n",
    "\"Hello\" == \"hello\""
   ]
  },
  {
   "cell_type": "code",
   "execution_count": null,
   "id": "218198bd",
   "metadata": {},
   "outputs": [],
   "source": [
    "# now what if we did something like this?\n",
    "\"1912\" == 1912\n",
    "# it will return \"False\"! There's quotation marks around the first number so your computer will process it as a string \n",
    "# rather than an integer, and 2 variables of different data types cannot be compared! "
   ]
  },
  {
   "cell_type": "code",
   "execution_count": null,
   "id": "862524dd",
   "metadata": {},
   "outputs": [],
   "source": [
    "# if you come across a situation where you need to compare a string and an integer though, the solution is simple\n",
    "# python allows you to \"cast\" variables so that they will be read as the data type they are casted to like so:\n",
    "\n",
    "int(\"1912\") == 1912"
   ]
  },
  {
   "cell_type": "code",
   "execution_count": null,
   "id": "e7f59bd4",
   "metadata": {},
   "outputs": [],
   "source": [
    "# or to convert to a string\n",
    "\n",
    "str(1912) == \"1912\""
   ]
  },
  {
   "attachments": {},
   "cell_type": "markdown",
   "id": "552321c4",
   "metadata": {},
   "source": [
    "## Boolean Operators\n",
    "\n",
    "To allow our computer to evaluate more complex questions, we also have boolean operators. Perhaps you want to find individuals in a census who are both employed **AND** female, or the men who are factory workers **OR** farmers.\n",
    "\n",
    "The 3 key boolean operators are simply `and`, `or`, and `not`. \n",
    "\n",
    "For `and`, both values it's joining must evaluate to \"True\" for it to return \"True\":"
   ]
  },
  {
   "cell_type": "code",
   "execution_count": null,
   "id": "00268ac9",
   "metadata": {},
   "outputs": [],
   "source": [
    "# an expression where both values are true returns \"True\"!\n",
    "True and True"
   ]
  },
  {
   "cell_type": "code",
   "execution_count": null,
   "id": "4d12ce01",
   "metadata": {},
   "outputs": [],
   "source": [
    "# an expression where one value is NOT true returns \"False\"!\n",
    "True and False"
   ]
  },
  {
   "cell_type": "code",
   "execution_count": null,
   "id": "c16715c7",
   "metadata": {},
   "outputs": [],
   "source": [
    "# and of course, an expression where both values are NOT true returns \"False\"\n",
    "False and False"
   ]
  },
  {
   "attachments": {},
   "cell_type": "markdown",
   "id": "602d179a",
   "metadata": {},
   "source": [
    "For `or`, only one of the values it's joining must evaluate to \"True\" for it to return \"True\":"
   ]
  },
  {
   "cell_type": "code",
   "execution_count": null,
   "id": "5227ae0e",
   "metadata": {},
   "outputs": [],
   "source": [
    "# an expression where both values are true returns \"True\"!\n",
    "True or True"
   ]
  },
  {
   "cell_type": "code",
   "execution_count": null,
   "id": "1bba9bf2",
   "metadata": {},
   "outputs": [],
   "source": [
    "# an expression where one value is not true still returns \"True\"!\n",
    "False or True"
   ]
  },
  {
   "cell_type": "code",
   "execution_count": null,
   "id": "c5cba1dd",
   "metadata": {},
   "outputs": [],
   "source": [
    "# and again, an expression where both values are NOT true returns \"False\"\n",
    "False or False"
   ]
  },
  {
   "attachments": {},
   "cell_type": "markdown",
   "id": "3f6159b8",
   "metadata": {},
   "source": [
    "`not` is used to \"flip\" the boolean value following it:"
   ]
  },
  {
   "cell_type": "code",
   "execution_count": null,
   "id": "ab3e8a8d",
   "metadata": {},
   "outputs": [],
   "source": [
    "# this returns \"True\":\n",
    "not False"
   ]
  },
  {
   "attachments": {},
   "cell_type": "markdown",
   "id": "fa8f9cb7",
   "metadata": {},
   "source": [
    "## Practice Activity #2: Think like a computer and evaluate these statements!\n",
    "***Helpful Hint:*** The computer evaluates expressions in the same order of operations you learned in school-- BEDMAS, **B**rackets, **E**xponents, **D**ivision, **M**ultiplication, **A**ddition, **S**ubtraction!\n",
    " "
   ]
  },
  {
   "cell_type": "code",
   "execution_count": null,
   "id": "34e01740",
   "metadata": {},
   "outputs": [],
   "source": [
    "(3 > 5) and (90 == 77)"
   ]
  },
  {
   "cell_type": "code",
   "execution_count": null,
   "id": "2d207696",
   "metadata": {},
   "outputs": [],
   "source": [
    "(3 == 45) or (3 != 7)"
   ]
  },
  {
   "cell_type": "code",
   "execution_count": null,
   "id": "2fc4b081",
   "metadata": {},
   "outputs": [],
   "source": [
    "(3 > 5) and (77 == \"77\")"
   ]
  },
  {
   "cell_type": "code",
   "execution_count": null,
   "id": "46fc479d",
   "metadata": {},
   "outputs": [],
   "source": [
    "(7 + 2 < 5) and (90 == 90)"
   ]
  },
  {
   "cell_type": "code",
   "execution_count": null,
   "id": "b5ccbf6f",
   "metadata": {},
   "outputs": [],
   "source": [
    "(3 < 7) and ('cat' != 'dog') and (17 == 17.000) and (9 + 8 != 4)"
   ]
  },
  {
   "attachments": {},
   "cell_type": "markdown",
   "id": "4cee38cd",
   "metadata": {},
   "source": [
    "## Bonus Activity: What expressions can you find in the original code?\n",
    "Paste them in the cell below!"
   ]
  },
  {
   "cell_type": "code",
   "execution_count": null,
   "id": "ddac4008",
   "metadata": {},
   "outputs": [],
   "source": []
  },
  {
   "attachments": {},
   "cell_type": "markdown",
   "id": "0b4dcc7a",
   "metadata": {},
   "source": [
    "# Putting it All Together: The `if/else` Statement\n",
    "\n",
    "So these code bits are cool and all-- you can now make the computer do something you want it to! But surely there's more to it? You know how the computer thinks, but how could it answer a more complex question? Well, this is where the `if`, or `if/else`, statement comes in!\n",
    "\n",
    "The `if` statement is the most basic way to tell your computer to do something independently. To verbalize the concept, you're telling the computer \"If this condition I specified is met, then do this thing.\" To specify the condition? You use comparison and boolean operators!\n",
    "\n",
    "Here's some examples of a basic `if` statement:"
   ]
  },
  {
   "cell_type": "code",
   "execution_count": null,
   "id": "8997bea0",
   "metadata": {},
   "outputs": [],
   "source": [
    "surname = \"Dowling\"\n",
    "\n",
    "# specify a condition\n",
    "if surname == \"Dowling\":\n",
    "    # tell the computer what action to take if the condition is met\n",
    "    print(surname)"
   ]
  },
  {
   "cell_type": "code",
   "execution_count": null,
   "id": "66ac9ddc",
   "metadata": {},
   "outputs": [],
   "source": [
    "# we can create more complex conditions by using boolean operators\n",
    "surname = \"Dowling\"\n",
    "\n",
    "birth_year = 2007\n",
    "\n",
    "# now we're asking that action only be taken if the variable surname is in fact \"Young\" AND the birth_year is 2007\n",
    "if surname == \"Dowling\" and birth_year == 2007:\n",
    "    # note that we casted the birth_year variable to a string, because you can only concatenate strings and birth_year was an integer\n",
    "    print(surname + \", \" + str(birth_year))"
   ]
  },
  {
   "attachments": {},
   "cell_type": "markdown",
   "id": "b7ed3193",
   "metadata": {},
   "source": [
    "But you may be wondering, what if the condition you specified ISN'T met? Well, if you were using just an `if` statement, your program would just end, outputting/doing nothing! Sometimes, that might be what you want to happen, but more often than not, you'll probably want to tack on an `else` option. \n",
    "\n",
    "This is essentially an \"otherwise\" option, saying to your computer \"If this condition I specified is met, then do this thing; otherwise, do this.\""
   ]
  },
  {
   "cell_type": "code",
   "execution_count": null,
   "id": "deb85931",
   "metadata": {},
   "outputs": [],
   "source": [
    "# for this example, we'll recast the surname variable to something else, so the if statement returns False\n",
    "surname = \"Young\"\n",
    "\n",
    "if surname == \"Dowling\" and birth_year == 2007:\n",
    "    print(surname + \", \" + str(birth_year))\n",
    "else: \n",
    "    # since the surname is \"Young\" rather than \"Dowling\", the computer skips to the else statement and performs that action instead\n",
    "    print(\"The surname or birth year is incorrect.\")"
   ]
  },
  {
   "attachments": {},
   "cell_type": "markdown",
   "id": "aaf564c7",
   "metadata": {},
   "source": [
    "If you wanted to check more conditions before your `if` statement resolves? You can do that using an `elif` statement (`elif` being a portmanteau of \"else\" and \"if\"). These statements are sandwiched between the first `if` and the final `else` like so:"
   ]
  },
  {
   "cell_type": "code",
   "execution_count": null,
   "id": "c153d952",
   "metadata": {},
   "outputs": [],
   "source": [
    "if surname == \"Dowling\" and birth_year == 2007:\n",
    "    print(surname + \", \" + str(birth_year))\n",
    "elif surname == \"Dowling\" or birth_year == 2007:\n",
    "    # you can nest if statements to create more descriptive outputs! This if statement determines if either the surname or year is False/incorrect. \n",
    "    if surname == \"Dowling\":\n",
    "        print(\"The year is incorrect.\")\n",
    "    else:\n",
    "        print(\"The surname is incorrect.\")\n",
    "else: \n",
    "    print(\"Person not found\")"
   ]
  },
  {
   "attachments": {},
   "cell_type": "markdown",
   "id": "07feb787",
   "metadata": {},
   "source": [
    "You can add as many `elif` statements as you want following the format shown above! But caution! More complex `if` statements can get a bit confusing. For some, it may help to visualize their problem using a flow chart. After all, an if statement is just a series of \"yes\" or \"no\" questions you're asking the computer to figure out. The last if statement we just did could be visualised like so:\n",
    "![simple `if` statement](exampleif.png)\n",
    "\n",
    "In the mind of a human, we often use this same \"true\"/\"false\" (aka \"yes\"/\"no\") process of elimination when making decisions, even if it's a bit more complex with emotions added into the mix! Yet we still try to emulate this straightforward nature of a computer in many aspects of life-- take this BOP magazine quiz for example:\n",
    "![BOP mag quiz](bopquiz.jpg)\n",
    "\n",
    "## Practice Activity #3: Find the `if` statements in our original code! \n",
    "\n",
    "Paste them down below! What purpose do they serve? Can you infer anything about the code above, below, or around the `if` statement with the information you now have?"
   ]
  },
  {
   "cell_type": "code",
   "execution_count": null,
   "id": "1dab005a",
   "metadata": {},
   "outputs": [],
   "source": [
    "\n",
    "        \n"
   ]
  }
 ],
 "metadata": {
  "interpreter": {
   "hash": "c30f2af5f468e7f5b45bcc30fca5f4886c90d54777aed916ed5f6294dfb24bf2"
  },
  "kernelspec": {
   "display_name": "Python 3",
   "language": "python",
   "name": "python3"
  },
  "language_info": {
   "codemirror_mode": {
    "name": "ipython",
    "version": 3
   },
   "file_extension": ".py",
   "mimetype": "text/x-python",
   "name": "python",
   "nbconvert_exporter": "python",
   "pygments_lexer": "ipython3",
   "version": "3.9.12"
  }
 },
 "nbformat": 4,
 "nbformat_minor": 5
}
